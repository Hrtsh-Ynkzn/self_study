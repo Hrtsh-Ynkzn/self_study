{
  "nbformat": 4,
  "nbformat_minor": 0,
  "metadata": {
    "colab": {
      "provenance": [],
      "authorship_tag": "ABX9TyOZfQyJiiQnlL0wXLvkvZ3d",
      "include_colab_link": true
    },
    "kernelspec": {
      "name": "python3",
      "display_name": "Python 3"
    },
    "language_info": {
      "name": "python"
    }
  },
  "cells": [
    {
      "cell_type": "markdown",
      "metadata": {
        "id": "view-in-github",
        "colab_type": "text"
      },
      "source": [
        "<a href=\"https://colab.research.google.com/github/Hrtsh-Ynkzn/self_study/blob/main/2_2_1_neural_network.ipynb\" target=\"_parent\"><img src=\"https://colab.research.google.com/assets/colab-badge.svg\" alt=\"Open In Colab\"/></a>"
      ]
    },
    {
      "cell_type": "code",
      "execution_count": 1,
      "metadata": {
        "colab": {
          "base_uri": "https://localhost:8080/"
        },
        "id": "_KfpTBHQDvyD",
        "outputId": "bb6cc1ff-e2ef-4264-ae13-c284c585cae4"
      },
      "outputs": [
        {
          "output_type": "stream",
          "name": "stdout",
          "text": [
            "(1797, 64) (1797,)\n"
          ]
        }
      ],
      "source": [
        "# ニューラルネットワークのパラメータ導出の手順を学ぶ\n",
        "from sklearn.datasets import load_digits\n",
        "\n",
        "digits = load_digits()          # 手書き文字認識のためのデータセットを読み込む\n",
        "X = digits.data                 # 説明変数（特微量）を格納\n",
        "y = digits.target               # 目的変数を格納\n",
        "print(X.shape, y.shape)         # shape属性で配列の形状の確認\n"
      ]
    },
    {
      "cell_type": "code",
      "source": [
        "# 深層学習ライブラリとしてPyTorchを使用する\n",
        "import torch\n",
        "\n",
        "# 取得したデータをPyTorchで扱える形式に変換\n",
        "X = torch.tensor(X, dtype = torch.float32)\n",
        "y = torch.tensor(y, dtype = torch.int64)"
      ],
      "metadata": {
        "id": "i_d6J3jqJ9nF"
      },
      "execution_count": 2,
      "outputs": []
    },
    {
      "cell_type": "code",
      "source": [
        "# アーキテクチャ、目的関数、最適化手法を定義する\n",
        "from torch import nn, optim\n",
        "\n",
        "model = nn.Sequential(\n",
        "        nn.Linear(64, 32),\n",
        "        nn.ReLU(),\n",
        "        nn.Linear(32, 16),\n",
        "        nn.ReLU(),\n",
        "        nn.Linear(16, 10),\n",
        "        )\n",
        "\n",
        "model.train()\n",
        "lossfun   = nn.CrossEntropyLoss()                       # 目的関数にはクロスエントロピーを採用\n",
        "optimizer = optim.SGD(model.parameters(), lr = 0.01)    # 最適化手法としてSGDを採用\n"
      ],
      "metadata": {
        "id": "Ts8aptlJUYQf"
      },
      "execution_count": 3,
      "outputs": []
    },
    {
      "cell_type": "code",
      "source": [
        "# 学習を実行\n",
        "losses = []\n",
        "\n",
        "for ep in range(100):\n",
        "    optimizer.zero_grad()\n",
        "\n",
        "    # yの予測値を算出\n",
        "    out = model(X)\n",
        "\n",
        "    # 損失を計算\n",
        "    loss = lossfun(out, y)\n",
        "    loss.backward()\n",
        "\n",
        "    # 勾配を更新\n",
        "    optimizer.step()\n",
        "\n",
        "    losses.append(loss.item())"
      ],
      "metadata": {
        "id": "jz1UVMDxU33Q"
      },
      "execution_count": 4,
      "outputs": []
    },
    {
      "cell_type": "code",
      "source": [
        "# 学習結果を確認\n",
        "_, pred = torch.max(out, 1)\n",
        "print((pred == y).sum().item() / len(y))"
      ],
      "metadata": {
        "colab": {
          "base_uri": "https://localhost:8080/"
        },
        "id": "DNSWYMAoYO1U",
        "outputId": "443b66cf-1d9a-42ad-aaca-4e6033654bc7"
      },
      "execution_count": 5,
      "outputs": [
        {
          "output_type": "stream",
          "name": "stdout",
          "text": [
            "0.8542014468558708\n"
          ]
        }
      ]
    },
    {
      "cell_type": "code",
      "source": [
        "import matplotlib.pyplot as plt\n",
        "\n",
        "plt.plot(losses)\n",
        "plt.xlabel('epoch')\n",
        "plt.ylabel('loss')"
      ],
      "metadata": {
        "colab": {
          "base_uri": "https://localhost:8080/",
          "height": 467
        },
        "id": "8vaxznDXYsZt",
        "outputId": "19b9375e-c7df-484e-c038-9db23f089e64"
      },
      "execution_count": 6,
      "outputs": [
        {
          "output_type": "execute_result",
          "data": {
            "text/plain": [
              "Text(0, 0.5, 'loss')"
            ]
          },
          "metadata": {},
          "execution_count": 6
        },
        {
          "output_type": "display_data",
          "data": {
            "text/plain": [
              "<Figure size 640x480 with 1 Axes>"
            ],
            "image/png": "[encoded data removed]"
          },
          "metadata": {}
        }
      ]
    },
    {
      "cell_type": "code",
      "source": [
        "import torch\n",
        "from sklearn.datasets import load_digits\n",
        "from torch.utils.data import DataLoader, TensorDataset\n",
        "\n",
        "digits = load_digits()\n",
        "X = digits.data\n",
        "y = digits.target\n",
        "\n",
        "X = torch.tensor(X, dtype = torch.float32)\n",
        "y = torch.tensor(y, dtype = torch.int64)\n",
        "dataset    = TensorDataset(X, y)\n",
        "dataloader = DataLoader(dataset, batch_size = 64, shuffle = False)"
      ],
      "metadata": {
        "id": "E52vuAXXZOf6"
      },
      "execution_count": 7,
      "outputs": []
    },
    {
      "cell_type": "code",
      "source": [
        "def train_lepoch(model, train_loader, lossfun, optimizer, device):\n",
        "    model.train()\n",
        "    total_loss, total_acc = 0.0, 0.0\n",
        "\n",
        "    for x, y in tpdm(train_loader):\n",
        "        x = x.to(device)\n",
        "        y = y.to(device)\n",
        "\n",
        "        optimizer.zero_grad()\n",
        "\n",
        "        # yの予測値を算出\n",
        "        out = model(x)\n",
        "\n",
        "        # 損失を計算\n",
        "        loss = lossfm(out, y)\n",
        "        loss.backward()\n",
        "\n",
        "        # 勾配を更新\n",
        "        optimizer.step()\n",
        "\n",
        "        # バッチ単位の損失を計算\n",
        "        total_loss += loss.item() * x.size(0)\n",
        "\n",
        "        # バッチ単位の生徒率を計算\n",
        "        _, pred    = torch.max(out,1)\n",
        "        total_acc += torch.sum(pred == y.data)\n",
        "\n",
        "    avg_loss = total_loss / len(train_loader.dataset)\n",
        "    avg_acc  = total_acc / len(train_loader.dataset)\n",
        "    return avg_acc, avg_loss"
      ],
      "metadata": {
        "id": "B9C7XyZpg5Ya"
      },
      "execution_count": 8,
      "outputs": []
    },
    {
      "cell_type": "code",
      "source": [],
      "metadata": {
        "id": "zRUQgPS9iqmU"
      },
      "execution_count": null,
      "outputs": []
    }
  ]
}